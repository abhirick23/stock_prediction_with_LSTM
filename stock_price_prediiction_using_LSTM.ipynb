{
  "cells": [
    {
      "cell_type": "code",
      "execution_count": null,
      "metadata": {
        "colab": {
          "base_uri": "https://localhost:8080/"
        },
        "id": "oGqMbRnBbkMW",
        "outputId": "d3bb3dfd-2f2c-409a-97de-dee96b2a575b"
      },
      "outputs": [
        {
          "output_type": "stream",
          "name": "stdout",
          "text": [
            "Drive already mounted at /gdrive/; to attempt to forcibly remount, call drive.mount(\"/gdrive/\", force_remount=True).\n",
            "/gdrive\n"
          ]
        }
      ],
      "source": [
        "from google.colab import drive\n",
        "drive.mount('/gdrive/')\n",
        "%cd /gdrive"
      ]
    },
    {
      "cell_type": "code",
      "execution_count": null,
      "metadata": {
        "colab": {
          "base_uri": "https://localhost:8080/"
        },
        "id": "-VNvLWT4d_Qh",
        "outputId": "bef205e2-406a-47e9-ceb5-ee22241ddc35"
      },
      "outputs": [
        {
          "output_type": "stream",
          "name": "stdout",
          "text": [
            "\u001b[0m\u001b[01;34mMyDrive\u001b[0m/  \u001b[01;34mShareddrives\u001b[0m/\n"
          ]
        }
      ],
      "source": [
        "ls"
      ]
    },
    {
      "cell_type": "code",
      "execution_count": null,
      "metadata": {
        "colab": {
          "base_uri": "https://localhost:8080/"
        },
        "id": "jb6dIiI9eAJW",
        "outputId": "cf24c12c-8219-438e-9e2c-0caba656fe99"
      },
      "outputs": [
        {
          "output_type": "stream",
          "name": "stdout",
          "text": [
            "/gdrive/MyDrive/Stock_price\n"
          ]
        }
      ],
      "source": [
        "cd /gdrive/MyDrive/Stock_price"
      ]
    },
    {
      "cell_type": "code",
      "execution_count": null,
      "metadata": {
        "colab": {
          "base_uri": "https://localhost:8080/"
        },
        "id": "065Y7OrUejV6",
        "outputId": "745e8ddb-8244-466c-884b-e4a437334bc6"
      },
      "outputs": [
        {
          "output_type": "stream",
          "name": "stdout",
          "text": [
            "'Uniqlo(FastRetailing) 2012-2016 Training - stocks2012-2016.csv'\n",
            "'Uniqlo(FastRetailing) 2017 Test - stocks2017.csv'\n"
          ]
        }
      ],
      "source": [
        "ls"
      ]
    },
    {
      "cell_type": "markdown",
      "metadata": {
        "id": "MECJrfaT22fe"
      },
      "source": [
        "# Importing Libraries"
      ]
    },
    {
      "cell_type": "code",
      "source": [
        "import numpy as np\n",
        "import pandas as pd\n",
        "import matplotlib.pyplot as plt\n",
        "import seaborn as sns\n",
        "from datetime import datetime"
      ],
      "metadata": {
        "id": "vqm6fRlSWosN"
      },
      "execution_count": null,
      "outputs": []
    },
    {
      "cell_type": "code",
      "source": [
        "from tensorflow.keras.models import Sequential\n",
        "from tensorflow.keras.layers import LSTM\n",
        "from tensorflow.keras.layers import Dense, Dropout\n",
        "from sklearn.preprocessing import StandardScaler"
      ],
      "metadata": {
        "id": "xNZLQZH7WrMH"
      },
      "execution_count": null,
      "outputs": []
    },
    {
      "cell_type": "code",
      "execution_count": null,
      "metadata": {
        "id": "U9TKL2oP_miQ"
      },
      "outputs": [],
      "source": [
        "import warnings\n",
        "warnings.filterwarnings(\"ignore\")"
      ]
    },
    {
      "cell_type": "markdown",
      "metadata": {
        "id": "M8N0AzjC8x-t"
      },
      "source": [
        "# Uploading Dataset"
      ]
    },
    {
      "cell_type": "code",
      "execution_count": null,
      "metadata": {
        "colab": {
          "base_uri": "https://localhost:8080/",
          "height": 206
        },
        "id": "JY8toA46ez9w",
        "outputId": "7e723525-d85a-47da-921b-40a2dca22d52"
      },
      "outputs": [
        {
          "output_type": "execute_result",
          "data": {
            "text/plain": [
              "         Date   Open   High    Low  Close  Volume  Stock Trading\n",
              "0  2016-12-30  42120  42330  41700  41830  610000    25628028000\n",
              "1  2016-12-29  43000  43220  42540  42660  448400    19188227000\n",
              "2  2016-12-28  43940  43970  43270  43270  339900    14780670000\n",
              "3  2016-12-27  43140  43700  43140  43620  400100    17427993000\n",
              "4  2016-12-26  43310  43660  43090  43340  358200    15547803000"
            ],
            "text/html": [
              "\n",
              "  <div id=\"df-4f5d8421-5999-4fc1-aae0-2f13c19b909c\">\n",
              "    <div class=\"colab-df-container\">\n",
              "      <div>\n",
              "<style scoped>\n",
              "    .dataframe tbody tr th:only-of-type {\n",
              "        vertical-align: middle;\n",
              "    }\n",
              "\n",
              "    .dataframe tbody tr th {\n",
              "        vertical-align: top;\n",
              "    }\n",
              "\n",
              "    .dataframe thead th {\n",
              "        text-align: right;\n",
              "    }\n",
              "</style>\n",
              "<table border=\"1\" class=\"dataframe\">\n",
              "  <thead>\n",
              "    <tr style=\"text-align: right;\">\n",
              "      <th></th>\n",
              "      <th>Date</th>\n",
              "      <th>Open</th>\n",
              "      <th>High</th>\n",
              "      <th>Low</th>\n",
              "      <th>Close</th>\n",
              "      <th>Volume</th>\n",
              "      <th>Stock Trading</th>\n",
              "    </tr>\n",
              "  </thead>\n",
              "  <tbody>\n",
              "    <tr>\n",
              "      <th>0</th>\n",
              "      <td>2016-12-30</td>\n",
              "      <td>42120</td>\n",
              "      <td>42330</td>\n",
              "      <td>41700</td>\n",
              "      <td>41830</td>\n",
              "      <td>610000</td>\n",
              "      <td>25628028000</td>\n",
              "    </tr>\n",
              "    <tr>\n",
              "      <th>1</th>\n",
              "      <td>2016-12-29</td>\n",
              "      <td>43000</td>\n",
              "      <td>43220</td>\n",
              "      <td>42540</td>\n",
              "      <td>42660</td>\n",
              "      <td>448400</td>\n",
              "      <td>19188227000</td>\n",
              "    </tr>\n",
              "    <tr>\n",
              "      <th>2</th>\n",
              "      <td>2016-12-28</td>\n",
              "      <td>43940</td>\n",
              "      <td>43970</td>\n",
              "      <td>43270</td>\n",
              "      <td>43270</td>\n",
              "      <td>339900</td>\n",
              "      <td>14780670000</td>\n",
              "    </tr>\n",
              "    <tr>\n",
              "      <th>3</th>\n",
              "      <td>2016-12-27</td>\n",
              "      <td>43140</td>\n",
              "      <td>43700</td>\n",
              "      <td>43140</td>\n",
              "      <td>43620</td>\n",
              "      <td>400100</td>\n",
              "      <td>17427993000</td>\n",
              "    </tr>\n",
              "    <tr>\n",
              "      <th>4</th>\n",
              "      <td>2016-12-26</td>\n",
              "      <td>43310</td>\n",
              "      <td>43660</td>\n",
              "      <td>43090</td>\n",
              "      <td>43340</td>\n",
              "      <td>358200</td>\n",
              "      <td>15547803000</td>\n",
              "    </tr>\n",
              "  </tbody>\n",
              "</table>\n",
              "</div>\n",
              "      <button class=\"colab-df-convert\" onclick=\"convertToInteractive('df-4f5d8421-5999-4fc1-aae0-2f13c19b909c')\"\n",
              "              title=\"Convert this dataframe to an interactive table.\"\n",
              "              style=\"display:none;\">\n",
              "        \n",
              "  <svg xmlns=\"http://www.w3.org/2000/svg\" height=\"24px\"viewBox=\"0 0 24 24\"\n",
              "       width=\"24px\">\n",
              "    <path d=\"M0 0h24v24H0V0z\" fill=\"none\"/>\n",
              "    <path d=\"M18.56 5.44l.94 2.06.94-2.06 2.06-.94-2.06-.94-.94-2.06-.94 2.06-2.06.94zm-11 1L8.5 8.5l.94-2.06 2.06-.94-2.06-.94L8.5 2.5l-.94 2.06-2.06.94zm10 10l.94 2.06.94-2.06 2.06-.94-2.06-.94-.94-2.06-.94 2.06-2.06.94z\"/><path d=\"M17.41 7.96l-1.37-1.37c-.4-.4-.92-.59-1.43-.59-.52 0-1.04.2-1.43.59L10.3 9.45l-7.72 7.72c-.78.78-.78 2.05 0 2.83L4 21.41c.39.39.9.59 1.41.59.51 0 1.02-.2 1.41-.59l7.78-7.78 2.81-2.81c.8-.78.8-2.07 0-2.86zM5.41 20L4 18.59l7.72-7.72 1.47 1.35L5.41 20z\"/>\n",
              "  </svg>\n",
              "      </button>\n",
              "      \n",
              "  <style>\n",
              "    .colab-df-container {\n",
              "      display:flex;\n",
              "      flex-wrap:wrap;\n",
              "      gap: 12px;\n",
              "    }\n",
              "\n",
              "    .colab-df-convert {\n",
              "      background-color: #E8F0FE;\n",
              "      border: none;\n",
              "      border-radius: 50%;\n",
              "      cursor: pointer;\n",
              "      display: none;\n",
              "      fill: #1967D2;\n",
              "      height: 32px;\n",
              "      padding: 0 0 0 0;\n",
              "      width: 32px;\n",
              "    }\n",
              "\n",
              "    .colab-df-convert:hover {\n",
              "      background-color: #E2EBFA;\n",
              "      box-shadow: 0px 1px 2px rgba(60, 64, 67, 0.3), 0px 1px 3px 1px rgba(60, 64, 67, 0.15);\n",
              "      fill: #174EA6;\n",
              "    }\n",
              "\n",
              "    [theme=dark] .colab-df-convert {\n",
              "      background-color: #3B4455;\n",
              "      fill: #D2E3FC;\n",
              "    }\n",
              "\n",
              "    [theme=dark] .colab-df-convert:hover {\n",
              "      background-color: #434B5C;\n",
              "      box-shadow: 0px 1px 3px 1px rgba(0, 0, 0, 0.15);\n",
              "      filter: drop-shadow(0px 1px 2px rgba(0, 0, 0, 0.3));\n",
              "      fill: #FFFFFF;\n",
              "    }\n",
              "  </style>\n",
              "\n",
              "      <script>\n",
              "        const buttonEl =\n",
              "          document.querySelector('#df-4f5d8421-5999-4fc1-aae0-2f13c19b909c button.colab-df-convert');\n",
              "        buttonEl.style.display =\n",
              "          google.colab.kernel.accessAllowed ? 'block' : 'none';\n",
              "\n",
              "        async function convertToInteractive(key) {\n",
              "          const element = document.querySelector('#df-4f5d8421-5999-4fc1-aae0-2f13c19b909c');\n",
              "          const dataTable =\n",
              "            await google.colab.kernel.invokeFunction('convertToInteractive',\n",
              "                                                     [key], {});\n",
              "          if (!dataTable) return;\n",
              "\n",
              "          const docLinkHtml = 'Like what you see? Visit the ' +\n",
              "            '<a target=\"_blank\" href=https://colab.research.google.com/notebooks/data_table.ipynb>data table notebook</a>'\n",
              "            + ' to learn more about interactive tables.';\n",
              "          element.innerHTML = '';\n",
              "          dataTable['output_type'] = 'display_data';\n",
              "          await google.colab.output.renderOutput(dataTable, element);\n",
              "          const docLink = document.createElement('div');\n",
              "          docLink.innerHTML = docLinkHtml;\n",
              "          element.appendChild(docLink);\n",
              "        }\n",
              "      </script>\n",
              "    </div>\n",
              "  </div>\n",
              "  "
            ]
          },
          "metadata": {},
          "execution_count": 8
        }
      ],
      "source": [
        "df_train=pd.read_csv('Uniqlo(FastRetailing) 2012-2016 Training - stocks2012-2016.csv')\n",
        "df_train.head()"
      ]
    },
    {
      "cell_type": "code",
      "source": [
        "df_test=pd.read_csv('Uniqlo(FastRetailing) 2017 Test - stocks2017.csv')\n",
        "df_test.head()"
      ],
      "metadata": {
        "colab": {
          "base_uri": "https://localhost:8080/",
          "height": 206
        },
        "id": "T9Z7mVnim-d6",
        "outputId": "f0de4470-331e-4782-ecca-b955184a817f"
      },
      "execution_count": null,
      "outputs": [
        {
          "output_type": "execute_result",
          "data": {
            "text/plain": [
              "         Date   Open   High    Low  Close   Volume  Stock Trading\n",
              "0  2017-01-13  38900  39380  38240  38430  1321200    51197289000\n",
              "1  2017-01-12  38300  38450  37930  38010   800900    30540359000\n",
              "2  2017-01-11  38710  38880  38480  38560   545900    21089798000\n",
              "3  2017-01-10  38620  38850  38150  38690  1196900    46107703000\n",
              "4  2017-01-06  40500  41030  39720  39720  1435500    57708934000"
            ],
            "text/html": [
              "\n",
              "  <div id=\"df-e2cdae9f-709f-42c0-83c6-c9da913f3826\">\n",
              "    <div class=\"colab-df-container\">\n",
              "      <div>\n",
              "<style scoped>\n",
              "    .dataframe tbody tr th:only-of-type {\n",
              "        vertical-align: middle;\n",
              "    }\n",
              "\n",
              "    .dataframe tbody tr th {\n",
              "        vertical-align: top;\n",
              "    }\n",
              "\n",
              "    .dataframe thead th {\n",
              "        text-align: right;\n",
              "    }\n",
              "</style>\n",
              "<table border=\"1\" class=\"dataframe\">\n",
              "  <thead>\n",
              "    <tr style=\"text-align: right;\">\n",
              "      <th></th>\n",
              "      <th>Date</th>\n",
              "      <th>Open</th>\n",
              "      <th>High</th>\n",
              "      <th>Low</th>\n",
              "      <th>Close</th>\n",
              "      <th>Volume</th>\n",
              "      <th>Stock Trading</th>\n",
              "    </tr>\n",
              "  </thead>\n",
              "  <tbody>\n",
              "    <tr>\n",
              "      <th>0</th>\n",
              "      <td>2017-01-13</td>\n",
              "      <td>38900</td>\n",
              "      <td>39380</td>\n",
              "      <td>38240</td>\n",
              "      <td>38430</td>\n",
              "      <td>1321200</td>\n",
              "      <td>51197289000</td>\n",
              "    </tr>\n",
              "    <tr>\n",
              "      <th>1</th>\n",
              "      <td>2017-01-12</td>\n",
              "      <td>38300</td>\n",
              "      <td>38450</td>\n",
              "      <td>37930</td>\n",
              "      <td>38010</td>\n",
              "      <td>800900</td>\n",
              "      <td>30540359000</td>\n",
              "    </tr>\n",
              "    <tr>\n",
              "      <th>2</th>\n",
              "      <td>2017-01-11</td>\n",
              "      <td>38710</td>\n",
              "      <td>38880</td>\n",
              "      <td>38480</td>\n",
              "      <td>38560</td>\n",
              "      <td>545900</td>\n",
              "      <td>21089798000</td>\n",
              "    </tr>\n",
              "    <tr>\n",
              "      <th>3</th>\n",
              "      <td>2017-01-10</td>\n",
              "      <td>38620</td>\n",
              "      <td>38850</td>\n",
              "      <td>38150</td>\n",
              "      <td>38690</td>\n",
              "      <td>1196900</td>\n",
              "      <td>46107703000</td>\n",
              "    </tr>\n",
              "    <tr>\n",
              "      <th>4</th>\n",
              "      <td>2017-01-06</td>\n",
              "      <td>40500</td>\n",
              "      <td>41030</td>\n",
              "      <td>39720</td>\n",
              "      <td>39720</td>\n",
              "      <td>1435500</td>\n",
              "      <td>57708934000</td>\n",
              "    </tr>\n",
              "  </tbody>\n",
              "</table>\n",
              "</div>\n",
              "      <button class=\"colab-df-convert\" onclick=\"convertToInteractive('df-e2cdae9f-709f-42c0-83c6-c9da913f3826')\"\n",
              "              title=\"Convert this dataframe to an interactive table.\"\n",
              "              style=\"display:none;\">\n",
              "        \n",
              "  <svg xmlns=\"http://www.w3.org/2000/svg\" height=\"24px\"viewBox=\"0 0 24 24\"\n",
              "       width=\"24px\">\n",
              "    <path d=\"M0 0h24v24H0V0z\" fill=\"none\"/>\n",
              "    <path d=\"M18.56 5.44l.94 2.06.94-2.06 2.06-.94-2.06-.94-.94-2.06-.94 2.06-2.06.94zm-11 1L8.5 8.5l.94-2.06 2.06-.94-2.06-.94L8.5 2.5l-.94 2.06-2.06.94zm10 10l.94 2.06.94-2.06 2.06-.94-2.06-.94-.94-2.06-.94 2.06-2.06.94z\"/><path d=\"M17.41 7.96l-1.37-1.37c-.4-.4-.92-.59-1.43-.59-.52 0-1.04.2-1.43.59L10.3 9.45l-7.72 7.72c-.78.78-.78 2.05 0 2.83L4 21.41c.39.39.9.59 1.41.59.51 0 1.02-.2 1.41-.59l7.78-7.78 2.81-2.81c.8-.78.8-2.07 0-2.86zM5.41 20L4 18.59l7.72-7.72 1.47 1.35L5.41 20z\"/>\n",
              "  </svg>\n",
              "      </button>\n",
              "      \n",
              "  <style>\n",
              "    .colab-df-container {\n",
              "      display:flex;\n",
              "      flex-wrap:wrap;\n",
              "      gap: 12px;\n",
              "    }\n",
              "\n",
              "    .colab-df-convert {\n",
              "      background-color: #E8F0FE;\n",
              "      border: none;\n",
              "      border-radius: 50%;\n",
              "      cursor: pointer;\n",
              "      display: none;\n",
              "      fill: #1967D2;\n",
              "      height: 32px;\n",
              "      padding: 0 0 0 0;\n",
              "      width: 32px;\n",
              "    }\n",
              "\n",
              "    .colab-df-convert:hover {\n",
              "      background-color: #E2EBFA;\n",
              "      box-shadow: 0px 1px 2px rgba(60, 64, 67, 0.3), 0px 1px 3px 1px rgba(60, 64, 67, 0.15);\n",
              "      fill: #174EA6;\n",
              "    }\n",
              "\n",
              "    [theme=dark] .colab-df-convert {\n",
              "      background-color: #3B4455;\n",
              "      fill: #D2E3FC;\n",
              "    }\n",
              "\n",
              "    [theme=dark] .colab-df-convert:hover {\n",
              "      background-color: #434B5C;\n",
              "      box-shadow: 0px 1px 3px 1px rgba(0, 0, 0, 0.15);\n",
              "      filter: drop-shadow(0px 1px 2px rgba(0, 0, 0, 0.3));\n",
              "      fill: #FFFFFF;\n",
              "    }\n",
              "  </style>\n",
              "\n",
              "      <script>\n",
              "        const buttonEl =\n",
              "          document.querySelector('#df-e2cdae9f-709f-42c0-83c6-c9da913f3826 button.colab-df-convert');\n",
              "        buttonEl.style.display =\n",
              "          google.colab.kernel.accessAllowed ? 'block' : 'none';\n",
              "\n",
              "        async function convertToInteractive(key) {\n",
              "          const element = document.querySelector('#df-e2cdae9f-709f-42c0-83c6-c9da913f3826');\n",
              "          const dataTable =\n",
              "            await google.colab.kernel.invokeFunction('convertToInteractive',\n",
              "                                                     [key], {});\n",
              "          if (!dataTable) return;\n",
              "\n",
              "          const docLinkHtml = 'Like what you see? Visit the ' +\n",
              "            '<a target=\"_blank\" href=https://colab.research.google.com/notebooks/data_table.ipynb>data table notebook</a>'\n",
              "            + ' to learn more about interactive tables.';\n",
              "          element.innerHTML = '';\n",
              "          dataTable['output_type'] = 'display_data';\n",
              "          await google.colab.output.renderOutput(dataTable, element);\n",
              "          const docLink = document.createElement('div');\n",
              "          docLink.innerHTML = docLinkHtml;\n",
              "          element.appendChild(docLink);\n",
              "        }\n",
              "      </script>\n",
              "    </div>\n",
              "  </div>\n",
              "  "
            ]
          },
          "metadata": {},
          "execution_count": 9
        }
      ]
    },
    {
      "cell_type": "code",
      "execution_count": null,
      "metadata": {
        "colab": {
          "base_uri": "https://localhost:8080/"
        },
        "id": "1h0Qu2MfvkYg",
        "outputId": "2200d92d-d079-4807-d77d-15b8dbc4caf2"
      },
      "outputs": [
        {
          "output_type": "stream",
          "name": "stdout",
          "text": [
            "<class 'pandas.core.frame.DataFrame'>\n",
            "RangeIndex: 1226 entries, 0 to 1225\n",
            "Data columns (total 7 columns):\n",
            " #   Column         Non-Null Count  Dtype \n",
            "---  ------         --------------  ----- \n",
            " 0   Date           1226 non-null   object\n",
            " 1   Open           1226 non-null   int64 \n",
            " 2   High           1226 non-null   int64 \n",
            " 3   Low            1226 non-null   int64 \n",
            " 4   Close          1226 non-null   int64 \n",
            " 5   Volume         1226 non-null   int64 \n",
            " 6   Stock Trading  1226 non-null   int64 \n",
            "dtypes: int64(6), object(1)\n",
            "memory usage: 67.2+ KB\n"
          ]
        }
      ],
      "source": [
        "df_train.info()"
      ]
    },
    {
      "cell_type": "code",
      "source": [
        "df_test.info()"
      ],
      "metadata": {
        "colab": {
          "base_uri": "https://localhost:8080/"
        },
        "id": "x7mD9I3fnFih",
        "outputId": "0af44fcc-5413-4d18-c901-08fb48bcdde7"
      },
      "execution_count": null,
      "outputs": [
        {
          "output_type": "stream",
          "name": "stdout",
          "text": [
            "<class 'pandas.core.frame.DataFrame'>\n",
            "RangeIndex: 7 entries, 0 to 6\n",
            "Data columns (total 7 columns):\n",
            " #   Column         Non-Null Count  Dtype \n",
            "---  ------         --------------  ----- \n",
            " 0   Date           7 non-null      object\n",
            " 1   Open           7 non-null      int64 \n",
            " 2   High           7 non-null      int64 \n",
            " 3   Low            7 non-null      int64 \n",
            " 4   Close          7 non-null      int64 \n",
            " 5   Volume         7 non-null      int64 \n",
            " 6   Stock Trading  7 non-null      int64 \n",
            "dtypes: int64(6), object(1)\n",
            "memory usage: 520.0+ bytes\n"
          ]
        }
      ]
    },
    {
      "cell_type": "code",
      "source": [
        "df_train.describe().style.background_gradient(axis=0,cmap = 'RdYlGn')"
      ],
      "metadata": {
        "colab": {
          "base_uri": "https://localhost:8080/",
          "height": 300
        },
        "id": "_V_Yfnn2qzGg",
        "outputId": "24e8f228-2013-4aa9-b29c-703d5c1f11c9"
      },
      "execution_count": null,
      "outputs": [
        {
          "output_type": "execute_result",
          "data": {
            "text/plain": [
              "<pandas.io.formats.style.Styler at 0x7fb506103510>"
            ],
            "text/html": [
              "<style type=\"text/css\">\n",
              "#T_ca8bc_row0_col0, #T_ca8bc_row0_col1, #T_ca8bc_row0_col2, #T_ca8bc_row0_col3, #T_ca8bc_row0_col4, #T_ca8bc_row0_col5 {\n",
              "  background-color: #a50026;\n",
              "  color: #f1f1f1;\n",
              "}\n",
              "#T_ca8bc_row1_col0, #T_ca8bc_row1_col1, #T_ca8bc_row1_col2 {\n",
              "  background-color: #eff8aa;\n",
              "  color: #000000;\n",
              "}\n",
              "#T_ca8bc_row1_col3 {\n",
              "  background-color: #f1f9ac;\n",
              "  color: #000000;\n",
              "}\n",
              "#T_ca8bc_row1_col4, #T_ca8bc_row5_col5 {\n",
              "  background-color: #e44c34;\n",
              "  color: #f1f1f1;\n",
              "}\n",
              "#T_ca8bc_row1_col5, #T_ca8bc_row6_col4 {\n",
              "  background-color: #ea5739;\n",
              "  color: #f1f1f1;\n",
              "}\n",
              "#T_ca8bc_row2_col0, #T_ca8bc_row2_col1, #T_ca8bc_row2_col2, #T_ca8bc_row2_col3 {\n",
              "  background-color: #e75337;\n",
              "  color: #f1f1f1;\n",
              "}\n",
              "#T_ca8bc_row2_col4 {\n",
              "  background-color: #ce2827;\n",
              "  color: #f1f1f1;\n",
              "}\n",
              "#T_ca8bc_row2_col5 {\n",
              "  background-color: #d83128;\n",
              "  color: #f1f1f1;\n",
              "}\n",
              "#T_ca8bc_row3_col0, #T_ca8bc_row3_col1, #T_ca8bc_row3_col2 {\n",
              "  background-color: #f57245;\n",
              "  color: #f1f1f1;\n",
              "}\n",
              "#T_ca8bc_row3_col3, #T_ca8bc_row6_col5 {\n",
              "  background-color: #f47044;\n",
              "  color: #f1f1f1;\n",
              "}\n",
              "#T_ca8bc_row3_col4 {\n",
              "  background-color: #b30d26;\n",
              "  color: #f1f1f1;\n",
              "}\n",
              "#T_ca8bc_row3_col5 {\n",
              "  background-color: #b10b26;\n",
              "  color: #f1f1f1;\n",
              "}\n",
              "#T_ca8bc_row4_col0, #T_ca8bc_row4_col2 {\n",
              "  background-color: #feec9f;\n",
              "  color: #000000;\n",
              "}\n",
              "#T_ca8bc_row4_col1 {\n",
              "  background-color: #feeda1;\n",
              "  color: #000000;\n",
              "}\n",
              "#T_ca8bc_row4_col3 {\n",
              "  background-color: #feeb9d;\n",
              "  color: #000000;\n",
              "}\n",
              "#T_ca8bc_row4_col4, #T_ca8bc_row4_col5 {\n",
              "  background-color: #d62f27;\n",
              "  color: #f1f1f1;\n",
              "}\n",
              "#T_ca8bc_row5_col0, #T_ca8bc_row5_col2 {\n",
              "  background-color: #ecf7a6;\n",
              "  color: #000000;\n",
              "}\n",
              "#T_ca8bc_row5_col1 {\n",
              "  background-color: #ebf7a3;\n",
              "  color: #000000;\n",
              "}\n",
              "#T_ca8bc_row5_col3 {\n",
              "  background-color: #eef8a8;\n",
              "  color: #000000;\n",
              "}\n",
              "#T_ca8bc_row5_col4 {\n",
              "  background-color: #de402e;\n",
              "  color: #f1f1f1;\n",
              "}\n",
              "#T_ca8bc_row6_col0, #T_ca8bc_row6_col2 {\n",
              "  background-color: #b7e075;\n",
              "  color: #000000;\n",
              "}\n",
              "#T_ca8bc_row6_col1 {\n",
              "  background-color: #b5df74;\n",
              "  color: #000000;\n",
              "}\n",
              "#T_ca8bc_row6_col3 {\n",
              "  background-color: #b9e176;\n",
              "  color: #000000;\n",
              "}\n",
              "#T_ca8bc_row7_col0, #T_ca8bc_row7_col1, #T_ca8bc_row7_col2, #T_ca8bc_row7_col3, #T_ca8bc_row7_col4, #T_ca8bc_row7_col5 {\n",
              "  background-color: #006837;\n",
              "  color: #f1f1f1;\n",
              "}\n",
              "</style>\n",
              "<table id=\"T_ca8bc_\" class=\"dataframe\">\n",
              "  <thead>\n",
              "    <tr>\n",
              "      <th class=\"blank level0\" >&nbsp;</th>\n",
              "      <th class=\"col_heading level0 col0\" >Open</th>\n",
              "      <th class=\"col_heading level0 col1\" >High</th>\n",
              "      <th class=\"col_heading level0 col2\" >Low</th>\n",
              "      <th class=\"col_heading level0 col3\" >Close</th>\n",
              "      <th class=\"col_heading level0 col4\" >Volume</th>\n",
              "      <th class=\"col_heading level0 col5\" >Stock Trading</th>\n",
              "    </tr>\n",
              "  </thead>\n",
              "  <tbody>\n",
              "    <tr>\n",
              "      <th id=\"T_ca8bc_level0_row0\" class=\"row_heading level0 row0\" >count</th>\n",
              "      <td id=\"T_ca8bc_row0_col0\" class=\"data row0 col0\" >1226.000000</td>\n",
              "      <td id=\"T_ca8bc_row0_col1\" class=\"data row0 col1\" >1226.000000</td>\n",
              "      <td id=\"T_ca8bc_row0_col2\" class=\"data row0 col2\" >1226.000000</td>\n",
              "      <td id=\"T_ca8bc_row0_col3\" class=\"data row0 col3\" >1226.000000</td>\n",
              "      <td id=\"T_ca8bc_row0_col4\" class=\"data row0 col4\" >1226.000000</td>\n",
              "      <td id=\"T_ca8bc_row0_col5\" class=\"data row0 col5\" >1226.000000</td>\n",
              "    </tr>\n",
              "    <tr>\n",
              "      <th id=\"T_ca8bc_level0_row1\" class=\"row_heading level0 row1\" >mean</th>\n",
              "      <td id=\"T_ca8bc_row1_col0\" class=\"data row1 col0\" >33754.416803</td>\n",
              "      <td id=\"T_ca8bc_row1_col1\" class=\"data row1 col1\" >34178.784666</td>\n",
              "      <td id=\"T_ca8bc_row1_col2\" class=\"data row1 col2\" >33347.903752</td>\n",
              "      <td id=\"T_ca8bc_row1_col3\" class=\"data row1 col3\" >33760.583197</td>\n",
              "      <td id=\"T_ca8bc_row1_col4\" class=\"data row1 col4\" >727555.628059</td>\n",
              "      <td id=\"T_ca8bc_row1_col5\" class=\"data row1 col5\" >24409326331.973900</td>\n",
              "    </tr>\n",
              "    <tr>\n",
              "      <th id=\"T_ca8bc_level0_row2\" class=\"row_heading level0 row2\" >std</th>\n",
              "      <td id=\"T_ca8bc_row2_col0\" class=\"data row2 col0\" >10813.440409</td>\n",
              "      <td id=\"T_ca8bc_row2_col1\" class=\"data row2 col1\" >10936.326802</td>\n",
              "      <td id=\"T_ca8bc_row2_col2\" class=\"data row2 col2\" >10695.664102</td>\n",
              "      <td id=\"T_ca8bc_row2_col3\" class=\"data row2 col3\" >10815.661389</td>\n",
              "      <td id=\"T_ca8bc_row2_col4\" class=\"data row2 col4\" >413717.772821</td>\n",
              "      <td id=\"T_ca8bc_row2_col5\" class=\"data row2 col5\" >15262997763.732494</td>\n",
              "    </tr>\n",
              "    <tr>\n",
              "      <th id=\"T_ca8bc_level0_row3\" class=\"row_heading level0 row3\" >min</th>\n",
              "      <td id=\"T_ca8bc_row3_col0\" class=\"data row3 col0\" >13720.000000</td>\n",
              "      <td id=\"T_ca8bc_row3_col1\" class=\"data row3 col1\" >13840.000000</td>\n",
              "      <td id=\"T_ca8bc_row3_col2\" class=\"data row3 col2\" >13600.000000</td>\n",
              "      <td id=\"T_ca8bc_row3_col3\" class=\"data row3 col3\" >13720.000000</td>\n",
              "      <td id=\"T_ca8bc_row3_col4\" class=\"data row3 col4\" >139100.000000</td>\n",
              "      <td id=\"T_ca8bc_row3_col5\" class=\"data row3 col5\" >3966140000.000000</td>\n",
              "    </tr>\n",
              "    <tr>\n",
              "      <th id=\"T_ca8bc_level0_row4\" class=\"row_heading level0 row4\" >25%</th>\n",
              "      <td id=\"T_ca8bc_row4_col0\" class=\"data row4 col0\" >27788.750000</td>\n",
              "      <td id=\"T_ca8bc_row4_col1\" class=\"data row4 col1\" >28091.250000</td>\n",
              "      <td id=\"T_ca8bc_row4_col2\" class=\"data row4 col2\" >27401.250000</td>\n",
              "      <td id=\"T_ca8bc_row4_col3\" class=\"data row4 col3\" >27675.000000</td>\n",
              "      <td id=\"T_ca8bc_row4_col4\" class=\"data row4 col4\" >487300.000000</td>\n",
              "      <td id=\"T_ca8bc_row4_col5\" class=\"data row4 col5\" >14540968250.000000</td>\n",
              "    </tr>\n",
              "    <tr>\n",
              "      <th id=\"T_ca8bc_level0_row5\" class=\"row_heading level0 row5\" >50%</th>\n",
              "      <td id=\"T_ca8bc_row5_col0\" class=\"data row5 col0\" >34445.000000</td>\n",
              "      <td id=\"T_ca8bc_row5_col1\" class=\"data row5 col1\" >34835.000000</td>\n",
              "      <td id=\"T_ca8bc_row5_col2\" class=\"data row5 col2\" >33925.000000</td>\n",
              "      <td id=\"T_ca8bc_row5_col3\" class=\"data row5 col3\" >34412.500000</td>\n",
              "      <td id=\"T_ca8bc_row5_col4\" class=\"data row5 col4\" >626000.000000</td>\n",
              "      <td id=\"T_ca8bc_row5_col5\" class=\"data row5 col5\" >21537716500.000000</td>\n",
              "    </tr>\n",
              "    <tr>\n",
              "      <th id=\"T_ca8bc_level0_row6\" class=\"row_heading level0 row6\" >75%</th>\n",
              "      <td id=\"T_ca8bc_row6_col0\" class=\"data row6 col0\" >41412.500000</td>\n",
              "      <td id=\"T_ca8bc_row6_col1\" class=\"data row6 col1\" >41900.000000</td>\n",
              "      <td id=\"T_ca8bc_row6_col2\" class=\"data row6 col2\" >40810.000000</td>\n",
              "      <td id=\"T_ca8bc_row6_col3\" class=\"data row6 col3\" >41365.000000</td>\n",
              "      <td id=\"T_ca8bc_row6_col4\" class=\"data row6 col4\" >826700.000000</td>\n",
              "      <td id=\"T_ca8bc_row6_col5\" class=\"data row6 col5\" >30159223750.000000</td>\n",
              "    </tr>\n",
              "    <tr>\n",
              "      <th id=\"T_ca8bc_level0_row7\" class=\"row_heading level0 row7\" >max</th>\n",
              "      <td id=\"T_ca8bc_row7_col0\" class=\"data row7 col0\" >61550.000000</td>\n",
              "      <td id=\"T_ca8bc_row7_col1\" class=\"data row7 col1\" >61970.000000</td>\n",
              "      <td id=\"T_ca8bc_row7_col2\" class=\"data row7 col2\" >60740.000000</td>\n",
              "      <td id=\"T_ca8bc_row7_col3\" class=\"data row7 col3\" >61930.000000</td>\n",
              "      <td id=\"T_ca8bc_row7_col4\" class=\"data row7 col4\" >4937300.000000</td>\n",
              "      <td id=\"T_ca8bc_row7_col5\" class=\"data row7 col5\" >146045036000.000000</td>\n",
              "    </tr>\n",
              "  </tbody>\n",
              "</table>\n"
            ]
          },
          "metadata": {},
          "execution_count": 12
        }
      ]
    },
    {
      "cell_type": "markdown",
      "metadata": {
        "id": "X0ky4LRt88QU"
      },
      "source": [
        "# EDA"
      ]
    },
    {
      "cell_type": "code",
      "execution_count": null,
      "metadata": {
        "colab": {
          "base_uri": "https://localhost:8080/"
        },
        "id": "uYniR82xinQt",
        "outputId": "32e97908-cce0-43f4-a728-b9bc741fcecf"
      },
      "outputs": [
        {
          "output_type": "execute_result",
          "data": {
            "text/plain": [
              "0"
            ]
          },
          "metadata": {},
          "execution_count": 13
        }
      ],
      "source": [
        "df_train.isna().sum().sum()"
      ]
    },
    {
      "cell_type": "code",
      "source": [
        "df_test.isna().sum().sum()"
      ],
      "metadata": {
        "colab": {
          "base_uri": "https://localhost:8080/"
        },
        "id": "yPynOPW3nTf3",
        "outputId": "1df10f2e-cc54-40da-8119-f0e227f17c6f"
      },
      "execution_count": null,
      "outputs": [
        {
          "output_type": "execute_result",
          "data": {
            "text/plain": [
              "0"
            ]
          },
          "metadata": {},
          "execution_count": 14
        }
      ]
    },
    {
      "cell_type": "code",
      "execution_count": null,
      "metadata": {
        "colab": {
          "base_uri": "https://localhost:8080/"
        },
        "id": "WKewTr_juCGU",
        "outputId": "4af9d7ae-3d42-4d1a-c122-8bb2a6a8d5ea"
      },
      "outputs": [
        {
          "output_type": "execute_result",
          "data": {
            "text/plain": [
              "Index(['Date', 'Open', 'High', 'Low', 'Close', 'Volume', 'Stock Trading'], dtype='object')"
            ]
          },
          "metadata": {},
          "execution_count": 15
        }
      ],
      "source": [
        "df_train.columns"
      ]
    },
    {
      "cell_type": "code",
      "source": [
        "train_dates = pd.to_datetime(df_train['Date'])\n",
        "print(train_dates)"
      ],
      "metadata": {
        "colab": {
          "base_uri": "https://localhost:8080/"
        },
        "id": "N0yY35-CXnY1",
        "outputId": "d1eabdfc-adb4-4ec8-c270-2654d2897306"
      },
      "execution_count": null,
      "outputs": [
        {
          "output_type": "stream",
          "name": "stdout",
          "text": [
            "0      2016-12-30\n",
            "1      2016-12-29\n",
            "2      2016-12-28\n",
            "3      2016-12-27\n",
            "4      2016-12-26\n",
            "          ...    \n",
            "1221   2012-01-11\n",
            "1222   2012-01-10\n",
            "1223   2012-01-06\n",
            "1224   2012-01-05\n",
            "1225   2012-01-04\n",
            "Name: Date, Length: 1226, dtype: datetime64[ns]\n"
          ]
        }
      ]
    },
    {
      "cell_type": "code",
      "source": [
        "cols = list(df_train)[1:5]\n",
        "cols"
      ],
      "metadata": {
        "colab": {
          "base_uri": "https://localhost:8080/"
        },
        "id": "b8p6y7wjX8lv",
        "outputId": "a07f6575-2495-45bc-86b9-70d6255b68a3"
      },
      "execution_count": null,
      "outputs": [
        {
          "output_type": "execute_result",
          "data": {
            "text/plain": [
              "['Open', 'High', 'Low', 'Close']"
            ]
          },
          "metadata": {},
          "execution_count": 17
        }
      ]
    },
    {
      "cell_type": "code",
      "source": [
        "df_training = df_train[cols].astype(int)"
      ],
      "metadata": {
        "id": "EPioLyMiYFNm"
      },
      "execution_count": null,
      "outputs": []
    },
    {
      "cell_type": "code",
      "source": [
        "df_testing = df_test[cols].astype(int)"
      ],
      "metadata": {
        "id": "0OvOoRzUoCGb"
      },
      "execution_count": null,
      "outputs": []
    },
    {
      "cell_type": "code",
      "source": [
        "plot_train=df_training\n",
        "plot_train.plot.line()"
      ],
      "metadata": {
        "colab": {
          "base_uri": "https://localhost:8080/",
          "height": 283
        },
        "id": "gXUkxT8AYMKC",
        "outputId": "a4e6815a-0833-4718-e6c5-f2a4bc5f1e50"
      },
      "execution_count": null,
      "outputs": [
        {
          "output_type": "execute_result",
          "data": {
            "text/plain": [
              "<matplotlib.axes._subplots.AxesSubplot at 0x7fb505ca6410>"
            ]
          },
          "metadata": {},
          "execution_count": 20
        },
        {
          "output_type": "display_data",
          "data": {
            "text/plain": [
              "<Figure size 432x288 with 1 Axes>"
            ],
            "image/png": "[encoded data removed]"
          },
          "metadata": {
            "needs_background": "light"
          }
        }
      ]
    },
    {
      "cell_type": "code",
      "source": [
        "plot_train=df_testing\n",
        "plot_train.plot.line()"
      ],
      "metadata": {
        "colab": {
          "base_uri": "https://localhost:8080/",
          "height": 283
        },
        "id": "D8CgsUQsoOuy",
        "outputId": "0b46c4f1-aa45-4eef-e52e-178e91942fb7"
      },
      "execution_count": null,
      "outputs": [
        {
          "output_type": "execute_result",
          "data": {
            "text/plain": [
              "<matplotlib.axes._subplots.AxesSubplot at 0x7fb505c0f6d0>"
            ]
          },
          "metadata": {},
          "execution_count": 21
        },
        {
          "output_type": "display_data",
          "data": {
            "text/plain": [
              "<Figure size 432x288 with 1 Axes>"
            ],
            "image/png": "[encoded data removed]"
          },
          "metadata": {
            "needs_background": "light"
          }
        }
      ]
    },
    {
      "cell_type": "code",
      "source": [
        "scaler = StandardScaler()\n",
        "scaler = scaler.fit(df_training)\n",
        "df_training_scaled = scaler.transform(df_training)"
      ],
      "metadata": {
        "id": "zp4q5M_7Ymbj"
      },
      "execution_count": null,
      "outputs": []
    },
    {
      "cell_type": "code",
      "source": [
        "scaler = StandardScaler()\n",
        "scaler = scaler.fit(df_testing)\n",
        "df_testing_scaled = scaler.transform(df_testing)"
      ],
      "metadata": {
        "id": "RQDCf2MsoeYR"
      },
      "execution_count": null,
      "outputs": []
    },
    {
      "cell_type": "code",
      "source": [
        "trainX = []\n",
        "trainY = []\n",
        "testX=[]\n",
        "testY=[]\n",
        "\n",
        "n_future = 1  \n",
        "n_past = 14 \n",
        "\n",
        "n_past_test=4"
      ],
      "metadata": {
        "id": "0t7jy_wzYxMr"
      },
      "execution_count": null,
      "outputs": []
    },
    {
      "cell_type": "code",
      "source": [
        "for i in range(n_past, len(df_training_scaled) - n_future +1):\n",
        "    trainX.append(df_training_scaled[i - n_past:i, 0:df_training.shape[1]])\n",
        "    trainY.append(df_training_scaled[i + n_future - 1:i + n_future, 0])"
      ],
      "metadata": {
        "id": "KpklnkGMY7fM"
      },
      "execution_count": null,
      "outputs": []
    },
    {
      "cell_type": "code",
      "source": [
        "trainX, trainY = np.array(trainX), np.array(trainY)"
      ],
      "metadata": {
        "id": "Jb6UphG0ZGHB"
      },
      "execution_count": null,
      "outputs": []
    },
    {
      "cell_type": "code",
      "source": [
        "print('trainX shape == {}.'.format(trainX.shape))\n",
        "print('trainY shape == {}.'.format(trainY.shape))"
      ],
      "metadata": {
        "colab": {
          "base_uri": "https://localhost:8080/"
        },
        "id": "T9uSt8GeZLBB",
        "outputId": "9c989a87-0f65-42d0-9fea-759605f6975f"
      },
      "execution_count": null,
      "outputs": [
        {
          "output_type": "stream",
          "name": "stdout",
          "text": [
            "trainX shape == (1212, 14, 4).\n",
            "trainY shape == (1212, 1).\n"
          ]
        }
      ]
    },
    {
      "cell_type": "code",
      "source": [
        "for i in range(n_past_test, len(df_testing_scaled) - n_future +1):\n",
        "    testX.append(df_testing_scaled[i - n_past_test:i, 0:df_testing.shape[1]])\n",
        "    testY.append(df_testing_scaled[i + n_future - 1:i + n_future, 0])"
      ],
      "metadata": {
        "id": "y6Um74XCqlXh"
      },
      "execution_count": null,
      "outputs": []
    },
    {
      "cell_type": "code",
      "source": [
        "testX, testY = np.array(testX), np.array(testY)"
      ],
      "metadata": {
        "id": "euavPdnlrMGh"
      },
      "execution_count": null,
      "outputs": []
    },
    {
      "cell_type": "code",
      "source": [
        "print('testX shape == {}.'.format(testX.shape))\n",
        "print('testY shape == {}.'.format(testY.shape))"
      ],
      "metadata": {
        "colab": {
          "base_uri": "https://localhost:8080/"
        },
        "id": "He5YTBdfrUb2",
        "outputId": "9fbf2cf1-5e7f-4556-a2da-d3dd04232b4c"
      },
      "execution_count": null,
      "outputs": [
        {
          "output_type": "stream",
          "name": "stdout",
          "text": [
            "testX shape == (3, 4, 4).\n",
            "testY shape == (3, 1).\n"
          ]
        }
      ]
    },
    {
      "cell_type": "markdown",
      "source": [
        "# Model creation"
      ],
      "metadata": {
        "id": "TFxmXNtEmU1j"
      }
    },
    {
      "cell_type": "code",
      "source": [
        "model = Sequential()\n",
        "model.add(LSTM(64, activation='relu', input_shape=(trainX.shape[1], trainX.shape[2]), return_sequences=True))\n",
        "model.add(LSTM(32, activation='relu', return_sequences=False))\n",
        "model.add(Dropout(0.2))\n",
        "model.add(Dense(trainY.shape[1]))"
      ],
      "metadata": {
        "id": "h2wChwoLZNAy"
      },
      "execution_count": null,
      "outputs": []
    },
    {
      "cell_type": "code",
      "source": [
        "model.compile(optimizer='adam', loss='mse')"
      ],
      "metadata": {
        "id": "0cuSqKuAZb_m"
      },
      "execution_count": null,
      "outputs": []
    },
    {
      "cell_type": "code",
      "source": [
        "model.summary()"
      ],
      "metadata": {
        "colab": {
          "base_uri": "https://localhost:8080/"
        },
        "id": "VFJi-8UhZeb6",
        "outputId": "b3c1e0e6-5e34-4834-a764-25e4ec6c0cd4"
      },
      "execution_count": null,
      "outputs": [
        {
          "output_type": "stream",
          "name": "stdout",
          "text": [
            "Model: \"sequential\"\n",
            "_________________________________________________________________\n",
            " Layer (type)                Output Shape              Param #   \n",
            "=================================================================\n",
            " lstm (LSTM)                 (None, 14, 64)            17664     \n",
            "                                                                 \n",
            " lstm_1 (LSTM)               (None, 32)                12416     \n",
            "                                                                 \n",
            " dropout (Dropout)           (None, 32)                0         \n",
            "                                                                 \n",
            " dense (Dense)               (None, 1)                 33        \n",
            "                                                                 \n",
            "=================================================================\n",
            "Total params: 30,113\n",
            "Trainable params: 30,113\n",
            "Non-trainable params: 0\n",
            "_________________________________________________________________\n"
          ]
        }
      ]
    },
    {
      "cell_type": "code",
      "source": [
        "history = model.fit(trainX, trainY,\n",
        "                    epochs=15, \n",
        "                    batch_size=16, \n",
        "                    validation_split=0.1, verbose=1)"
      ],
      "metadata": {
        "colab": {
          "base_uri": "https://localhost:8080/"
        },
        "id": "AlLKptJIZg3C",
        "outputId": "613a56c9-24eb-4080-9399-d639d77dc658"
      },
      "execution_count": null,
      "outputs": [
        {
          "output_type": "stream",
          "name": "stdout",
          "text": [
            "Epoch 1/15\n",
            "69/69 [==============================] - 4s 19ms/step - loss: 0.2037 - val_loss: 0.0045\n",
            "Epoch 2/15\n",
            "69/69 [==============================] - 1s 14ms/step - loss: 0.0488 - val_loss: 0.0042\n",
            "Epoch 3/15\n",
            "69/69 [==============================] - 1s 14ms/step - loss: 0.0482 - val_loss: 0.0033\n",
            "Epoch 4/15\n",
            "69/69 [==============================] - 1s 14ms/step - loss: 0.0413 - val_loss: 0.0054\n",
            "Epoch 5/15\n",
            "69/69 [==============================] - 1s 14ms/step - loss: 0.0361 - val_loss: 0.0028\n",
            "Epoch 6/15\n",
            "69/69 [==============================] - 1s 14ms/step - loss: 0.0364 - val_loss: 0.0034\n",
            "Epoch 7/15\n",
            "69/69 [==============================] - 1s 14ms/step - loss: 0.0392 - val_loss: 0.0465\n",
            "Epoch 8/15\n",
            "69/69 [==============================] - 1s 14ms/step - loss: 0.0394 - val_loss: 0.0085\n",
            "Epoch 9/15\n",
            "69/69 [==============================] - 1s 14ms/step - loss: 0.0326 - val_loss: 0.0026\n",
            "Epoch 10/15\n",
            "69/69 [==============================] - 1s 14ms/step - loss: 0.0351 - val_loss: 0.0060\n",
            "Epoch 11/15\n",
            "69/69 [==============================] - 1s 14ms/step - loss: 0.0366 - val_loss: 0.0032\n",
            "Epoch 12/15\n",
            "69/69 [==============================] - 1s 14ms/step - loss: 0.0314 - val_loss: 0.0060\n",
            "Epoch 13/15\n",
            "69/69 [==============================] - 1s 13ms/step - loss: 0.0315 - val_loss: 0.0185\n",
            "Epoch 14/15\n",
            "69/69 [==============================] - 1s 14ms/step - loss: 0.0278 - val_loss: 0.0120\n",
            "Epoch 15/15\n",
            "69/69 [==============================] - 1s 14ms/step - loss: 0.0319 - val_loss: 0.0032\n"
          ]
        }
      ]
    },
    {
      "cell_type": "code",
      "source": [
        "plt.plot(history.history['loss'], label='Training loss')\n",
        "plt.plot(history.history['val_loss'], label='Validation loss')\n",
        "plt.legend()"
      ],
      "metadata": {
        "colab": {
          "base_uri": "https://localhost:8080/",
          "height": 283
        },
        "id": "LCFrM8N5ZrBP",
        "outputId": "21a4a00c-a5bf-433f-dc10-79e7cb16df81"
      },
      "execution_count": null,
      "outputs": [
        {
          "output_type": "execute_result",
          "data": {
            "text/plain": [
              "<matplotlib.legend.Legend at 0x7fb50142f150>"
            ]
          },
          "metadata": {},
          "execution_count": 35
        },
        {
          "output_type": "display_data",
          "data": {
            "text/plain": [
              "<Figure size 432x288 with 1 Axes>"
            ],
            "image/png": "[encoded data removed]"
          },
          "metadata": {
            "needs_background": "light"
          }
        }
      ]
    },
    {
      "cell_type": "code",
      "source": [
        "model1 = Sequential()\n",
        "model1.add(LSTM(64, activation='relu', input_shape=(testX.shape[1], testX.shape[2]), return_sequences=True))\n",
        "model1.add(LSTM(32, activation='relu', return_sequences=False))\n",
        "model1.add(Dropout(0.2))\n",
        "model1.add(Dense(testY.shape[1]))"
      ],
      "metadata": {
        "id": "O1kEtRRgr-l9"
      },
      "execution_count": null,
      "outputs": []
    },
    {
      "cell_type": "code",
      "source": [
        "model1.compile(optimizer='adam', loss='mse')"
      ],
      "metadata": {
        "id": "mFPBYSZesZp7"
      },
      "execution_count": null,
      "outputs": []
    },
    {
      "cell_type": "code",
      "source": [
        "model1.summary()"
      ],
      "metadata": {
        "colab": {
          "base_uri": "https://localhost:8080/"
        },
        "id": "AhnxOTFXsgSB",
        "outputId": "cf147de4-52b9-4108-8893-13f2a9fd3bf8"
      },
      "execution_count": null,
      "outputs": [
        {
          "output_type": "stream",
          "name": "stdout",
          "text": [
            "Model: \"sequential_1\"\n",
            "_________________________________________________________________\n",
            " Layer (type)                Output Shape              Param #   \n",
            "=================================================================\n",
            " lstm_2 (LSTM)               (None, 4, 64)             17664     \n",
            "                                                                 \n",
            " lstm_3 (LSTM)               (None, 32)                12416     \n",
            "                                                                 \n",
            " dropout_1 (Dropout)         (None, 32)                0         \n",
            "                                                                 \n",
            " dense_1 (Dense)             (None, 1)                 33        \n",
            "                                                                 \n",
            "=================================================================\n",
            "Total params: 30,113\n",
            "Trainable params: 30,113\n",
            "Non-trainable params: 0\n",
            "_________________________________________________________________\n"
          ]
        }
      ]
    },
    {
      "cell_type": "code",
      "source": [
        "history = model1.fit(testX, testY,\n",
        "                    epochs=15, \n",
        "                    batch_size=16, \n",
        "                    validation_split=0.1, verbose=1)"
      ],
      "metadata": {
        "colab": {
          "base_uri": "https://localhost:8080/"
        },
        "id": "fULlnd1Bsi2y",
        "outputId": "dfa4967f-5326-4c64-e2fd-5759db9a650b"
      },
      "execution_count": null,
      "outputs": [
        {
          "output_type": "stream",
          "name": "stdout",
          "text": [
            "Epoch 1/15\n",
            "1/1 [==============================] - 3s 3s/step - loss: 1.3152 - val_loss: 1.4844\n",
            "Epoch 2/15\n",
            "1/1 [==============================] - 0s 38ms/step - loss: 1.3262 - val_loss: 1.4645\n",
            "Epoch 3/15\n",
            "1/1 [==============================] - 0s 37ms/step - loss: 1.3048 - val_loss: 1.4439\n",
            "Epoch 4/15\n",
            "1/1 [==============================] - 0s 39ms/step - loss: 1.2229 - val_loss: 1.4219\n",
            "Epoch 5/15\n",
            "1/1 [==============================] - 0s 39ms/step - loss: 1.2597 - val_loss: 1.3996\n",
            "Epoch 6/15\n",
            "1/1 [==============================] - 0s 38ms/step - loss: 1.2327 - val_loss: 1.3767\n",
            "Epoch 7/15\n",
            "1/1 [==============================] - 0s 36ms/step - loss: 1.2172 - val_loss: 1.3529\n",
            "Epoch 8/15\n",
            "1/1 [==============================] - 0s 41ms/step - loss: 1.2201 - val_loss: 1.3280\n",
            "Epoch 9/15\n",
            "1/1 [==============================] - 0s 35ms/step - loss: 1.1145 - val_loss: 1.3020\n",
            "Epoch 10/15\n",
            "1/1 [==============================] - 0s 38ms/step - loss: 1.1406 - val_loss: 1.2740\n",
            "Epoch 11/15\n",
            "1/1 [==============================] - 0s 35ms/step - loss: 1.0604 - val_loss: 1.2436\n",
            "Epoch 12/15\n",
            "1/1 [==============================] - 0s 39ms/step - loss: 1.0307 - val_loss: 1.2114\n",
            "Epoch 13/15\n",
            "1/1 [==============================] - 0s 36ms/step - loss: 0.9669 - val_loss: 1.1768\n",
            "Epoch 14/15\n",
            "1/1 [==============================] - 0s 34ms/step - loss: 1.0310 - val_loss: 1.1407\n",
            "Epoch 15/15\n",
            "1/1 [==============================] - 0s 36ms/step - loss: 0.8869 - val_loss: 1.1019\n"
          ]
        }
      ]
    },
    {
      "cell_type": "code",
      "source": [
        "plt.plot(history.history['loss'], label='Training loss')\n",
        "plt.plot(history.history['val_loss'], label='Validation loss')\n",
        "plt.legend()"
      ],
      "metadata": {
        "colab": {
          "base_uri": "https://localhost:8080/",
          "height": 283
        },
        "id": "RTOM-W8fsssM",
        "outputId": "dcd47512-32be-480a-db12-3eab1942f308"
      },
      "execution_count": null,
      "outputs": [
        {
          "output_type": "execute_result",
          "data": {
            "text/plain": [
              "<matplotlib.legend.Legend at 0x7fb4ff3f4c10>"
            ]
          },
          "metadata": {},
          "execution_count": 44
        },
        {
          "output_type": "display_data",
          "data": {
            "text/plain": [
              "<Figure size 432x288 with 1 Axes>"
            ],
            "image/png": "[encoded data removed]"
          },
          "metadata": {
            "needs_background": "light"
          }
        }
      ]
    },
    {
      "cell_type": "markdown",
      "source": [
        "# Prediction"
      ],
      "metadata": {
        "id": "PYpTDEglmaPw"
      }
    },
    {
      "cell_type": "code",
      "source": [
        "train_predictions = model.predict(trainX).flatten()\n",
        "trainY=trainY.flatten()\n",
        "train_results = pd.DataFrame(data={'Train Predictions':train_predictions, 'Actuals':trainY})\n",
        "train_results"
      ],
      "metadata": {
        "colab": {
          "base_uri": "https://localhost:8080/",
          "height": 423
        },
        "id": "4FSTrki1jj6O",
        "outputId": "9d0338b7-1316-4b22-8e8c-6cf41d425dcf"
      },
      "execution_count": null,
      "outputs": [
        {
          "output_type": "execute_result",
          "data": {
            "text/plain": [
              "      Train Predictions   Actuals\n",
              "0              0.843131  0.735088\n",
              "1              0.806426  0.714734\n",
              "2              0.733458  0.624069\n",
              "3              0.665727  0.610192\n",
              "4              0.603241  0.583363\n",
              "...                 ...       ...\n",
              "1207          -1.711054 -1.794279\n",
              "1208          -1.714690 -1.837761\n",
              "1209          -1.724746 -1.828510\n",
              "1210          -1.737248 -1.853489\n",
              "1211          -1.749885 -1.822959\n",
              "\n",
              "[1212 rows x 2 columns]"
            ],
            "text/html": [
              "\n",
              "  <div id=\"df-7696aaba-ca6e-475c-9602-d10fe185631a\">\n",
              "    <div class=\"colab-df-container\">\n",
              "      <div>\n",
              "<style scoped>\n",
              "    .dataframe tbody tr th:only-of-type {\n",
              "        vertical-align: middle;\n",
              "    }\n",
              "\n",
              "    .dataframe tbody tr th {\n",
              "        vertical-align: top;\n",
              "    }\n",
              "\n",
              "    .dataframe thead th {\n",
              "        text-align: right;\n",
              "    }\n",
              "</style>\n",
              "<table border=\"1\" class=\"dataframe\">\n",
              "  <thead>\n",
              "    <tr style=\"text-align: right;\">\n",
              "      <th></th>\n",
              "      <th>Train Predictions</th>\n",
              "      <th>Actuals</th>\n",
              "    </tr>\n",
              "  </thead>\n",
              "  <tbody>\n",
              "    <tr>\n",
              "      <th>0</th>\n",
              "      <td>0.843131</td>\n",
              "      <td>0.735088</td>\n",
              "    </tr>\n",
              "    <tr>\n",
              "      <th>1</th>\n",
              "      <td>0.806426</td>\n",
              "      <td>0.714734</td>\n",
              "    </tr>\n",
              "    <tr>\n",
              "      <th>2</th>\n",
              "      <td>0.733458</td>\n",
              "      <td>0.624069</td>\n",
              "    </tr>\n",
              "    <tr>\n",
              "      <th>3</th>\n",
              "      <td>0.665727</td>\n",
              "      <td>0.610192</td>\n",
              "    </tr>\n",
              "    <tr>\n",
              "      <th>4</th>\n",
              "      <td>0.603241</td>\n",
              "      <td>0.583363</td>\n",
              "    </tr>\n",
              "    <tr>\n",
              "      <th>...</th>\n",
              "      <td>...</td>\n",
              "      <td>...</td>\n",
              "    </tr>\n",
              "    <tr>\n",
              "      <th>1207</th>\n",
              "      <td>-1.711054</td>\n",
              "      <td>-1.794279</td>\n",
              "    </tr>\n",
              "    <tr>\n",
              "      <th>1208</th>\n",
              "      <td>-1.714690</td>\n",
              "      <td>-1.837761</td>\n",
              "    </tr>\n",
              "    <tr>\n",
              "      <th>1209</th>\n",
              "      <td>-1.724746</td>\n",
              "      <td>-1.828510</td>\n",
              "    </tr>\n",
              "    <tr>\n",
              "      <th>1210</th>\n",
              "      <td>-1.737248</td>\n",
              "      <td>-1.853489</td>\n",
              "    </tr>\n",
              "    <tr>\n",
              "      <th>1211</th>\n",
              "      <td>-1.749885</td>\n",
              "      <td>-1.822959</td>\n",
              "    </tr>\n",
              "  </tbody>\n",
              "</table>\n",
              "<p>1212 rows × 2 columns</p>\n",
              "</div>\n",
              "      <button class=\"colab-df-convert\" onclick=\"convertToInteractive('df-7696aaba-ca6e-475c-9602-d10fe185631a')\"\n",
              "              title=\"Convert this dataframe to an interactive table.\"\n",
              "              style=\"display:none;\">\n",
              "        \n",
              "  <svg xmlns=\"http://www.w3.org/2000/svg\" height=\"24px\"viewBox=\"0 0 24 24\"\n",
              "       width=\"24px\">\n",
              "    <path d=\"M0 0h24v24H0V0z\" fill=\"none\"/>\n",
              "    <path d=\"M18.56 5.44l.94 2.06.94-2.06 2.06-.94-2.06-.94-.94-2.06-.94 2.06-2.06.94zm-11 1L8.5 8.5l.94-2.06 2.06-.94-2.06-.94L8.5 2.5l-.94 2.06-2.06.94zm10 10l.94 2.06.94-2.06 2.06-.94-2.06-.94-.94-2.06-.94 2.06-2.06.94z\"/><path d=\"M17.41 7.96l-1.37-1.37c-.4-.4-.92-.59-1.43-.59-.52 0-1.04.2-1.43.59L10.3 9.45l-7.72 7.72c-.78.78-.78 2.05 0 2.83L4 21.41c.39.39.9.59 1.41.59.51 0 1.02-.2 1.41-.59l7.78-7.78 2.81-2.81c.8-.78.8-2.07 0-2.86zM5.41 20L4 18.59l7.72-7.72 1.47 1.35L5.41 20z\"/>\n",
              "  </svg>\n",
              "      </button>\n",
              "      \n",
              "  <style>\n",
              "    .colab-df-container {\n",
              "      display:flex;\n",
              "      flex-wrap:wrap;\n",
              "      gap: 12px;\n",
              "    }\n",
              "\n",
              "    .colab-df-convert {\n",
              "      background-color: #E8F0FE;\n",
              "      border: none;\n",
              "      border-radius: 50%;\n",
              "      cursor: pointer;\n",
              "      display: none;\n",
              "      fill: #1967D2;\n",
              "      height: 32px;\n",
              "      padding: 0 0 0 0;\n",
              "      width: 32px;\n",
              "    }\n",
              "\n",
              "    .colab-df-convert:hover {\n",
              "      background-color: #E2EBFA;\n",
              "      box-shadow: 0px 1px 2px rgba(60, 64, 67, 0.3), 0px 1px 3px 1px rgba(60, 64, 67, 0.15);\n",
              "      fill: #174EA6;\n",
              "    }\n",
              "\n",
              "    [theme=dark] .colab-df-convert {\n",
              "      background-color: #3B4455;\n",
              "      fill: #D2E3FC;\n",
              "    }\n",
              "\n",
              "    [theme=dark] .colab-df-convert:hover {\n",
              "      background-color: #434B5C;\n",
              "      box-shadow: 0px 1px 3px 1px rgba(0, 0, 0, 0.15);\n",
              "      filter: drop-shadow(0px 1px 2px rgba(0, 0, 0, 0.3));\n",
              "      fill: #FFFFFF;\n",
              "    }\n",
              "  </style>\n",
              "\n",
              "      <script>\n",
              "        const buttonEl =\n",
              "          document.querySelector('#df-7696aaba-ca6e-475c-9602-d10fe185631a button.colab-df-convert');\n",
              "        buttonEl.style.display =\n",
              "          google.colab.kernel.accessAllowed ? 'block' : 'none';\n",
              "\n",
              "        async function convertToInteractive(key) {\n",
              "          const element = document.querySelector('#df-7696aaba-ca6e-475c-9602-d10fe185631a');\n",
              "          const dataTable =\n",
              "            await google.colab.kernel.invokeFunction('convertToInteractive',\n",
              "                                                     [key], {});\n",
              "          if (!dataTable) return;\n",
              "\n",
              "          const docLinkHtml = 'Like what you see? Visit the ' +\n",
              "            '<a target=\"_blank\" href=https://colab.research.google.com/notebooks/data_table.ipynb>data table notebook</a>'\n",
              "            + ' to learn more about interactive tables.';\n",
              "          element.innerHTML = '';\n",
              "          dataTable['output_type'] = 'display_data';\n",
              "          await google.colab.output.renderOutput(dataTable, element);\n",
              "          const docLink = document.createElement('div');\n",
              "          docLink.innerHTML = docLinkHtml;\n",
              "          element.appendChild(docLink);\n",
              "        }\n",
              "      </script>\n",
              "    </div>\n",
              "  </div>\n",
              "  "
            ]
          },
          "metadata": {},
          "execution_count": 38
        }
      ]
    },
    {
      "cell_type": "code",
      "source": [
        "plt.plot(train_results['Train Predictions'][50:100])\n",
        "plt.plot(train_results['Actuals'][50:100])"
      ],
      "metadata": {
        "colab": {
          "base_uri": "https://localhost:8080/",
          "height": 283
        },
        "id": "3qdc-XNnli9b",
        "outputId": "5ee48558-82a0-47d8-e995-49b3b0b45aff"
      },
      "execution_count": null,
      "outputs": [
        {
          "output_type": "execute_result",
          "data": {
            "text/plain": [
              "[<matplotlib.lines.Line2D at 0x7fb500fbcf90>]"
            ]
          },
          "metadata": {},
          "execution_count": 39
        },
        {
          "output_type": "display_data",
          "data": {
            "text/plain": [
              "<Figure size 432x288 with 1 Axes>"
            ],
            "image/png": "[encoded data removed]"
          },
          "metadata": {
            "needs_background": "light"
          }
        }
      ]
    },
    {
      "cell_type": "code",
      "source": [
        "test_predictions = model.predict(testX).flatten()\n",
        "testY=testY.flatten()\n",
        "test_results = pd.DataFrame(data={'Test Predictions':test_predictions, 'Actuals':testY})\n",
        "test_results"
      ],
      "metadata": {
        "colab": {
          "base_uri": "https://localhost:8080/",
          "height": 143
        },
        "id": "ZTwwj0U3qCtU",
        "outputId": "89a4d3d0-8db8-478d-e91b-c18b3cd58530"
      },
      "execution_count": null,
      "outputs": [
        {
          "output_type": "execute_result",
          "data": {
            "text/plain": [
              "   Test Predictions   Actuals\n",
              "0         -0.443659  0.209019\n",
              "1         -0.300799  1.677491\n",
              "2          0.065110  1.266319"
            ],
            "text/html": [
              "\n",
              "  <div id=\"df-f872c0a3-43f8-4e3c-9523-cbe75f8f2dfb\">\n",
              "    <div class=\"colab-df-container\">\n",
              "      <div>\n",
              "<style scoped>\n",
              "    .dataframe tbody tr th:only-of-type {\n",
              "        vertical-align: middle;\n",
              "    }\n",
              "\n",
              "    .dataframe tbody tr th {\n",
              "        vertical-align: top;\n",
              "    }\n",
              "\n",
              "    .dataframe thead th {\n",
              "        text-align: right;\n",
              "    }\n",
              "</style>\n",
              "<table border=\"1\" class=\"dataframe\">\n",
              "  <thead>\n",
              "    <tr style=\"text-align: right;\">\n",
              "      <th></th>\n",
              "      <th>Test Predictions</th>\n",
              "      <th>Actuals</th>\n",
              "    </tr>\n",
              "  </thead>\n",
              "  <tbody>\n",
              "    <tr>\n",
              "      <th>0</th>\n",
              "      <td>-0.443659</td>\n",
              "      <td>0.209019</td>\n",
              "    </tr>\n",
              "    <tr>\n",
              "      <th>1</th>\n",
              "      <td>-0.300799</td>\n",
              "      <td>1.677491</td>\n",
              "    </tr>\n",
              "    <tr>\n",
              "      <th>2</th>\n",
              "      <td>0.065110</td>\n",
              "      <td>1.266319</td>\n",
              "    </tr>\n",
              "  </tbody>\n",
              "</table>\n",
              "</div>\n",
              "      <button class=\"colab-df-convert\" onclick=\"convertToInteractive('df-f872c0a3-43f8-4e3c-9523-cbe75f8f2dfb')\"\n",
              "              title=\"Convert this dataframe to an interactive table.\"\n",
              "              style=\"display:none;\">\n",
              "        \n",
              "  <svg xmlns=\"http://www.w3.org/2000/svg\" height=\"24px\"viewBox=\"0 0 24 24\"\n",
              "       width=\"24px\">\n",
              "    <path d=\"M0 0h24v24H0V0z\" fill=\"none\"/>\n",
              "    <path d=\"M18.56 5.44l.94 2.06.94-2.06 2.06-.94-2.06-.94-.94-2.06-.94 2.06-2.06.94zm-11 1L8.5 8.5l.94-2.06 2.06-.94-2.06-.94L8.5 2.5l-.94 2.06-2.06.94zm10 10l.94 2.06.94-2.06 2.06-.94-2.06-.94-.94-2.06-.94 2.06-2.06.94z\"/><path d=\"M17.41 7.96l-1.37-1.37c-.4-.4-.92-.59-1.43-.59-.52 0-1.04.2-1.43.59L10.3 9.45l-7.72 7.72c-.78.78-.78 2.05 0 2.83L4 21.41c.39.39.9.59 1.41.59.51 0 1.02-.2 1.41-.59l7.78-7.78 2.81-2.81c.8-.78.8-2.07 0-2.86zM5.41 20L4 18.59l7.72-7.72 1.47 1.35L5.41 20z\"/>\n",
              "  </svg>\n",
              "      </button>\n",
              "      \n",
              "  <style>\n",
              "    .colab-df-container {\n",
              "      display:flex;\n",
              "      flex-wrap:wrap;\n",
              "      gap: 12px;\n",
              "    }\n",
              "\n",
              "    .colab-df-convert {\n",
              "      background-color: #E8F0FE;\n",
              "      border: none;\n",
              "      border-radius: 50%;\n",
              "      cursor: pointer;\n",
              "      display: none;\n",
              "      fill: #1967D2;\n",
              "      height: 32px;\n",
              "      padding: 0 0 0 0;\n",
              "      width: 32px;\n",
              "    }\n",
              "\n",
              "    .colab-df-convert:hover {\n",
              "      background-color: #E2EBFA;\n",
              "      box-shadow: 0px 1px 2px rgba(60, 64, 67, 0.3), 0px 1px 3px 1px rgba(60, 64, 67, 0.15);\n",
              "      fill: #174EA6;\n",
              "    }\n",
              "\n",
              "    [theme=dark] .colab-df-convert {\n",
              "      background-color: #3B4455;\n",
              "      fill: #D2E3FC;\n",
              "    }\n",
              "\n",
              "    [theme=dark] .colab-df-convert:hover {\n",
              "      background-color: #434B5C;\n",
              "      box-shadow: 0px 1px 3px 1px rgba(0, 0, 0, 0.15);\n",
              "      filter: drop-shadow(0px 1px 2px rgba(0, 0, 0, 0.3));\n",
              "      fill: #FFFFFF;\n",
              "    }\n",
              "  </style>\n",
              "\n",
              "      <script>\n",
              "        const buttonEl =\n",
              "          document.querySelector('#df-f872c0a3-43f8-4e3c-9523-cbe75f8f2dfb button.colab-df-convert');\n",
              "        buttonEl.style.display =\n",
              "          google.colab.kernel.accessAllowed ? 'block' : 'none';\n",
              "\n",
              "        async function convertToInteractive(key) {\n",
              "          const element = document.querySelector('#df-f872c0a3-43f8-4e3c-9523-cbe75f8f2dfb');\n",
              "          const dataTable =\n",
              "            await google.colab.kernel.invokeFunction('convertToInteractive',\n",
              "                                                     [key], {});\n",
              "          if (!dataTable) return;\n",
              "\n",
              "          const docLinkHtml = 'Like what you see? Visit the ' +\n",
              "            '<a target=\"_blank\" href=https://colab.research.google.com/notebooks/data_table.ipynb>data table notebook</a>'\n",
              "            + ' to learn more about interactive tables.';\n",
              "          element.innerHTML = '';\n",
              "          dataTable['output_type'] = 'display_data';\n",
              "          await google.colab.output.renderOutput(dataTable, element);\n",
              "          const docLink = document.createElement('div');\n",
              "          docLink.innerHTML = docLinkHtml;\n",
              "          element.appendChild(docLink);\n",
              "        }\n",
              "      </script>\n",
              "    </div>\n",
              "  </div>\n",
              "  "
            ]
          },
          "metadata": {},
          "execution_count": 46
        }
      ]
    },
    {
      "cell_type": "code",
      "source": [
        "plt.plot(test_results['Test Predictions'])\n",
        "plt.plot(test_results['Actuals'])"
      ],
      "metadata": {
        "colab": {
          "base_uri": "https://localhost:8080/",
          "height": 283
        },
        "id": "H0nUjqEts5Y4",
        "outputId": "b6f546b7-c027-4855-b30e-e6b6db06334a"
      },
      "execution_count": null,
      "outputs": [
        {
          "output_type": "execute_result",
          "data": {
            "text/plain": [
              "[<matplotlib.lines.Line2D at 0x7fb4ff0d6e90>]"
            ]
          },
          "metadata": {},
          "execution_count": 48
        },
        {
          "output_type": "display_data",
          "data": {
            "text/plain": [
              "<Figure size 432x288 with 1 Axes>"
            ],
            "image/png": "[encoded data removed]"
          },
          "metadata": {
            "needs_background": "light"
          }
        }
      ]
    }
  ],
  "metadata": {
    "colab": {
      "collapsed_sections": [],
      "name": "stock_price_prediiction_using_LSTM",
      "provenance": []
    },
    "kernelspec": {
      "display_name": "Python 3",
      "name": "python3"
    },
    "language_info": {
      "name": "python"
    }
  },
  "nbformat": 4,
  "nbformat_minor": 0
}